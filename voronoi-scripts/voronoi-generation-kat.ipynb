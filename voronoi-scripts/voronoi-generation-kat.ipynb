{
  "cells": [
    {
      "cell_type": "code",
      "execution_count": null,
      "metadata": {
        "colab": {
          "base_uri": "https://localhost:8080/"
        },
        "id": "c7n2gwa0pUvM",
        "outputId": "51cda602-682e-462d-caf4-39256bc53a30"
      },
      "outputs": [],
      "source": [
        "# import os os.environ['USE_PYGEOS'] = '0'\n",
        "import geopandas as gpd\n",
        "import pygeos\n",
        "import numpy as np\n",
        "import pandas as pd\n",
        "import momepy\n",
        "import pyproj\n",
        "gpd.options.use_pygeos = True\n",
        "\n",
        "from shapely.errors import ShapelyDeprecationWarning\n",
        "# warnings.filterwarnings('ignore', message='.*initial implementation of Parquet.*')\n",
        "# warnings.filterwarnings(\"ignore\", category=ShapelyDeprecationWarning)"
      ]
    },
    {
      "cell_type": "code",
      "execution_count": null,
      "metadata": {
        "id": "xBeDPZncpgLZ"
      },
      "outputs": [],
      "source": [
        "parcels_path = './data/Charlotte-NC-parcels/mecklenburg-parcels-09-19-2023/'\n",
        "blocks_path= './data/Charlotte-NC-blocks/'"
      ]
    },
    {
      "cell_type": "code",
      "execution_count": null,
      "metadata": {
        "id": "ejhGgXPj7OyH"
      },
      "outputs": [],
      "source": [
        "blocks_set = gpd.read_file(blocks_path).to_crs(3857)\n",
        "parcels_set = gpd.read_file(parcels_path).to_crs(3857)"
      ]
    },
    {
      "cell_type": "code",
      "execution_count": null,
      "metadata": {
        "id": "ZNaOymiG7SsH"
      },
      "outputs": [],
      "source": [
        "# #load geopandas (if required)\n",
        "brooklyn_path = './data/Charlotte-NC-buildings-clean'\n",
        "buildings_df = gpd.read_file(brooklyn_path).to_crs(3857)"
      ]
    },
    {
      "cell_type": "code",
      "execution_count": null,
      "metadata": {
        "id": "nKLfh1eoTwiz"
      },
      "outputs": [],
      "source": [
        "# remove duplicates in parcels\n",
        "indexes_to_remove = []\n",
        "my_dict = {}\n",
        "for index, row in parcels_set.iterrows():\n",
        "    if row['geometry'] not in my_dict:\n",
        "        my_dict[row['geometry']] = 1\n",
        "    else:\n",
        "        indexes_to_remove.append(index)\n",
        "parcels_set = parcels_set.drop(indexes_to_remove)\n",
        "parcels_set.reset_index(drop=True, inplace=True)\n",
        "print(f'{len(indexes_to_remove)} duplicate parcels removed from dataset.')"
      ]
    },
    {
      "cell_type": "code",
      "execution_count": null,
      "metadata": {
        "id": "dckAMf7XVCPr"
      },
      "outputs": [],
      "source": [
        "# remove duplicates in blocks\n",
        "indexes_to_remove = []\n",
        "my_dict = {}\n",
        "for index, row in blocks_set.iterrows():\n",
        "    if row['geometry'] not in my_dict:\n",
        "        my_dict[row['geometry']] = 1\n",
        "    else:\n",
        "        indexes_to_remove.append(index)\n",
        "blocks_set = blocks_set.drop(indexes_to_remove)\n",
        "blocks_set.reset_index(drop=True, inplace=True)\n",
        "print(f'{len(indexes_to_remove)} duplicate blocks removed from dataset.')"
      ]
    },
    {
      "cell_type": "code",
      "execution_count": null,
      "metadata": {},
      "outputs": [],
      "source": [
        "# remove duplicates in buildings\n",
        "indexes_to_remove = []\n",
        "my_dict = {}\n",
        "for index, row in buildings_df.iterrows():\n",
        "    if row['geometry'] not in my_dict:\n",
        "        my_dict[row['geometry']] = 1\n",
        "    else:\n",
        "        indexes_to_remove.append(index)\n",
        "buildings_df = buildings_df.drop(indexes_to_remove)\n",
        "buildings_df.reset_index(drop=True, inplace=True)\n",
        "print(f'{len(indexes_to_remove)} duplicate buildings removed from dataset.')"
      ]
    },
    {
      "cell_type": "code",
      "execution_count": null,
      "metadata": {},
      "outputs": [],
      "source": [
        "parcels_df = parcels_set.copy()\n",
        "parcels_df['blockID'] = None"
      ]
    },
    {
      "cell_type": "code",
      "execution_count": null,
      "metadata": {},
      "outputs": [],
      "source": [
        "# keep the parcels that correspond to a building\n",
        "parcels_df = gpd.sjoin(parcels_df, buildings_df, op='intersects')"
      ]
    },
    {
      "cell_type": "code",
      "execution_count": null,
      "metadata": {
        "id": "4JAwqnWcUtBC"
      },
      "outputs": [],
      "source": [
        "# add building id\n",
        "buildings_df['buildingID'] = [i for i in range(len(buildings_df))]\n",
        "\n",
        "# add parcel id\n",
        "parcels_df['parcelID'] = [i for i in range(len(parcels_df))]"
      ]
    },
    {
      "cell_type": "code",
      "execution_count": null,
      "metadata": {},
      "outputs": [],
      "source": [
        "# Iterate blocks, check building and parcel inclusion\n",
        "for index, block in blocks_set.iterrows():\n",
        "  block_geometry = block['geometry']\n",
        "  block_ID = block['GEOID10']\n",
        "\n",
        "  buildings_in_block = buildings_df[buildings_df.geometry.within(block_geometry)].index.tolist()\n",
        "  # print(buildings_in_block)\n",
        "  if len(buildings_in_block) > 0:\n",
        "    buildings_df.loc[buildings_in_block,'blockID']= block_ID"
      ]
    },
    {
      "cell_type": "code",
      "execution_count": null,
      "metadata": {},
      "outputs": [],
      "source": [
        "for index, parcel in parcels_df.iterrows():\n",
        "  parcel_geometry = parcel['geometry']\n",
        "  parcel_ID = parcel['parcelID']\n",
        "\n",
        "  # split building if in more than 1 parcel\n",
        "  buildings_in_parcel = buildings_df[buildings_df.geometry.within(parcel_geometry)].index.tolist()\n",
        "\n",
        "  if len(buildings_in_parcel):\n",
        "    buildings_df.loc[buildings_in_parcel,'parcelID']= parcel_ID"
      ]
    },
    {
      "cell_type": "code",
      "execution_count": null,
      "metadata": {},
      "outputs": [],
      "source": [
        "parcels_df.plot()"
      ]
    },
    {
      "cell_type": "code",
      "execution_count": null,
      "metadata": {},
      "outputs": [],
      "source": [
        "blocks_set.plot()"
      ]
    },
    {
      "cell_type": "code",
      "execution_count": null,
      "metadata": {},
      "outputs": [],
      "source": [
        "buildings_df.plot()"
      ]
    },
    {
      "cell_type": "code",
      "execution_count": null,
      "metadata": {
        "colab": {
          "base_uri": "https://localhost:8080/"
        },
        "id": "lgw9S485UzNr",
        "outputId": "bcbb3f45-2e8c-48c9-81ca-2e8db0dcc04c"
      },
      "outputs": [],
      "source": [
        "bpb = buildings_df.groupby('blockID')\n",
        "\n",
        "# Get the size of each group\n",
        "block_sizes = bpb.size()\n",
        "print(f'Max num of buildings in block: {block_sizes.max()}')\n",
        "print(f'Average num of buildings in block: {block_sizes.values.mean()}')\n",
        "print(f'Median num of buildings in block: {np.median(block_sizes.values)}')\n",
        "print(f'Min num of buildings in block: {np.min(block_sizes.values)}')\n",
        "\n",
        "# print(block_sizes)\n",
        "# build_nums = block_sizes.values\n",
        "# print(build_nums)"
      ]
    },
    {
      "cell_type": "markdown",
      "metadata": {},
      "source": [
        "#### Charlotte stats:\n",
        "- Max num of buildings in block: 2080\n",
        "- Average num of buildings in block: 601.8738738738739\n",
        "- Median num of buildings in block: 525.0\n",
        "- Min num of buildings in block: 11"
      ]
    },
    {
      "cell_type": "code",
      "execution_count": null,
      "metadata": {
        "colab": {
          "base_uri": "https://localhost:8080/",
          "height": 524
        },
        "id": "XVfaPVJOU5oB",
        "outputId": "b8a4fecc-211f-4104-a9c8-a45d72666527"
      },
      "outputs": [],
      "source": [
        "import seaborn as sns\n",
        "sns.displot(x = block_sizes.values, kde=True)"
      ]
    },
    {
      "cell_type": "markdown",
      "metadata": {
        "id": "It094KDHaCiZ"
      },
      "source": [
        "#### Voronoi Generation"
      ]
    },
    {
      "cell_type": "code",
      "execution_count": null,
      "metadata": {
        "id": "56BMP7twdh9j"
      },
      "outputs": [],
      "source": [
        "voronoi_data_path = './voronoi_dataset'\n",
        "baseline_data_path = './baseline_dataset'"
      ]
    },
    {
      "cell_type": "code",
      "execution_count": null,
      "metadata": {
        "colab": {
          "base_uri": "https://localhost:8080/",
          "height": 695
        },
        "id": "VQri00kIVOw_",
        "outputId": "813fcd5d-4808-4ea3-b800-031fc57a77f6"
      },
      "outputs": [],
      "source": [
        "blocks_set.reset_index(drop=True, inplace=True)\n"
      ]
    },
    {
      "cell_type": "code",
      "execution_count": null,
      "metadata": {
        "id": "vZKknHZUdutw"
      },
      "outputs": [],
      "source": [
        "import matplotlib.pyplot as plt\n",
        "import matplotlib.patches as mpatches\n",
        "import warnings\n",
        "from matplotlib.lines import Line2D\n",
        "warnings.filterwarnings(\"ignore\")"
      ]
    },
    {
      "cell_type": "code",
      "execution_count": null,
      "metadata": {
        "id": "5ilMQ5leSVtf"
      },
      "outputs": [],
      "source": [
        "columns = ['geometry', 'GEOID10', 'Voronoi_area', 'Baseline_area', 'building_IDs']\n",
        "voronoi_gdf = gpd.GeoDataFrame(columns = columns)\n",
        "output_shapefile_path = './voronoi_data'"
      ]
    },
    {
      "cell_type": "code",
      "execution_count": null,
      "metadata": {
        "id": "BplBLrsAe4cS"
      },
      "outputs": [],
      "source": [
        "# remove all buildings that have no parcel id\n",
        "buildings_df = buildings_df.dropna(subset=['parcelID'])"
      ]
    },
    {
      "cell_type": "code",
      "execution_count": null,
      "metadata": {},
      "outputs": [],
      "source": [
        "parcels_df.drop(columns=['index_right'], inplace=True)\n",
        "parcels_df.reset_index(inplace=True, drop=True)"
      ]
    },
    {
      "cell_type": "code",
      "execution_count": null,
      "metadata": {
        "colab": {
          "base_uri": "https://localhost:8080/"
        },
        "id": "Vt355oMK016a",
        "outputId": "6bfa9ff6-9d7e-460c-c896-e0fb168b91b3"
      },
      "outputs": [],
      "source": [
        "#loop buildings\n",
        "counter = 0\n",
        "for block_ID in np.sort(blocks_set['GEOID10'].values):\n",
        "  block = blocks_set[blocks_set['GEOID10']==block_ID]\n",
        "  parcels_in_block = gpd.sjoin(parcels_df, block, how='inner', op='intersects')\n",
        "  buildings = buildings_df[buildings_df['blockID']==block_ID]\n",
        "\n",
        "  if len(buildings)>0:\n",
        "\n",
        "    fig1, ax1 = plt.subplots()\n",
        "    fig2, ax2 = plt.subplots()\n",
        "\n",
        "    grouped = buildings.groupby('parcelID')\n",
        "    # Step 2: Apply unary_union to combine geometries within each group\n",
        "    combined_geoms = grouped['geometry'].apply(lambda x: x.unary_union)\n",
        "    # Step 3: Create a new GeoDataFrame from the combined geometries\n",
        "    # Note: combined_geoms is a Series with 'parcel_id' as the index and the combined geometries as values\n",
        "    grouped_buildings = gpd.GeoDataFrame(combined_geoms, columns=['geometry']).reset_index()\n",
        "    \n",
        "    try:\n",
        "      enclosed_tess = momepy.Tessellation(gdf=grouped_buildings, unique_id='parcelID', enclosures=block, enclosure_id='GEOID10').tessellation\n",
        "    except:\n",
        "      continue\n",
        "    voronoi = pygeos.get_parts(pygeos.from_shapely(enclosed_tess['geometry']))\n",
        "\n",
        "    building_points = pygeos.multipoints(pygeos.centroid(pygeos.from_shapely(buildings[\"geometry\"])))\n",
        "    b = pygeos.get_parts(pygeos.voronoi_polygons(geometry=building_points, extend_to=pygeos.from_shapely(block['geometry'])))\n",
        "\n",
        "    enclosed_net = enclosed_tess['geometry'].boundary.unary_union\n",
        "    enclosed_net = gpd.GeoDataFrame(geometry=gpd.GeoSeries(enclosed_net)).explode().reset_index(drop=True)\n",
        "\n",
        "    # Draw plots\n",
        "    for _, row in parcels_in_block.iterrows():\n",
        "      gdf = gpd.GeoDataFrame(index=[0], geometry=[row['geometry']])\n",
        "      if str(row['parcelID']) in buildings['parcelID'].values:\n",
        "        gdf.plot(ax=ax2, edgecolor = 'white', color = 'lightgray', label = 'built parcel', alpha = 0.3)\n",
        "\n",
        "    buildings.plot(ax=ax2, edgecolor = 'indigo', color = 'indigo', alpha = 0.6)\n",
        "    enclosed_tess.plot(ax=ax2, facecolor='none', edgecolor='black')\n",
        "    block.plot(ax=ax2, facecolor='none', edgecolor='black', linewidth = 2)\n",
        "    ax2.set_title('Voronoi Parcels')\n",
        "    # Create custom patches\n",
        "    voronoi_parcel_patch = Line2D([0], [0], color='black', linewidth=1, label='Voronoi Parcel')\n",
        "    baseline_parcel_patch = mpatches.Patch(color='lightgray', label='Baseline Parcel', alpha=0.3)\n",
        "\n",
        "    block_patch = Line2D([0], [0], color='black', linewidth=2, label='Block')\n",
        "    building_patch = mpatches.Patch(color='indigo', label='Building', alpha=0.6)\n",
        "    # Add the custom patches to the legend\n",
        "    ax2.legend(handles=[voronoi_parcel_patch, block_patch, building_patch, baseline_parcel_patch], loc='upper left', bbox_to_anchor=(1, 0.5))\n",
        "    fig2.savefig(voronoi_data_path+\"/voronoi_\"+str(buildings['buildingID'].values[0])+\"_\"+str(buildings['buildingID'].values.shape[0])+\".png\", bbox_inches='tight')\n",
        "    # Get the limits after plotting\n",
        "    x_limits = ax2.get_xlim()\n",
        "    y_limits = ax2.get_ylim()\n",
        "    plt.close()\n",
        "\n",
        "    for _, row in parcels_in_block.iterrows():\n",
        "      gdf = gpd.GeoDataFrame(index=[0], geometry=[row['geometry']])\n",
        "      if str(row['parcelID']) in buildings['parcelID'].values:\n",
        "        gdf.plot(ax=ax1, edgecolor = 'black', color = 'lightblue')\n",
        "      else:\n",
        "        gdf.plot(ax=ax1, edgecolor = 'black', color = 'lightgray')\n",
        "\n",
        "    # parcels_in_block.plot(ax=ax1, edgecolor = 'black', color = 'lightblue')\n",
        "    buildings.plot(ax=ax1, edgecolor = 'indigo', color = 'indigo', alpha = 0.6)\n",
        "    ax1.set_title('Baseline Parcels')\n",
        "    ax1.set_xlim(x_limits)\n",
        "    ax1.set_ylim(y_limits)\n",
        "    # Create custom patches\n",
        "    built_parcel_patch = mpatches.Patch(color='lightblue', label='Parcel')\n",
        "    other_parcel_patch = mpatches.Patch(color='lightgray', label='Other Parcel')\n",
        "    building_patch = mpatches.Patch(color='indigo', label='Building', alpha=0.6)\n",
        "    # Add the custom patches to the legend\n",
        "    ax1.legend(handles=[built_parcel_patch, other_parcel_patch, building_patch], loc='upper left', bbox_to_anchor=(1, 0.5))\n",
        "    fig1.savefig(baseline_data_path+\"/baseline_\"+str(buildings['buildingID'].values[0])+\"_\"+str(buildings['buildingID'].values.shape[0])+\".png\", bbox_inches='tight')\n",
        "    plt.close()\n",
        "    # drop, find area of cell, and add to global\n",
        "    enclosed_tess = enclosed_tess[['parcelID', 'geometry', 'GEOID10']]\n",
        "    enclosed_tess['Voronoi_area'] = enclosed_tess.area\n",
        "    enclosed_tess['building_IDs'] = np.nan\n",
        "    # calculate the area of the corresponding parcel\n",
        "    for index, row in enclosed_tess.iterrows():\n",
        "      parcel_id = row['parcelID']\n",
        "      buildings_id_list = buildings[buildings['parcelID']==parcel_id]['buildingID'].values.tolist()\n",
        "      enclosed_tess.at[index,'building_IDs'] = str(buildings_id_list)\n",
        "      parcel = parcels_df[parcels_df['parcelID']==int(parcel_id)]\n",
        "      enclosed_tess.loc[index,'Baseline_area'] = parcel['geometry'].area.values[0]\n",
        "\n",
        "    voronoi_gdf = pd.concat([voronoi_gdf, enclosed_tess], ignore_index=True) # voronoi_gdf.append(enclosed_tess, ignore_index=True)\n",
        "\n",
        "    if counter % 100 == 0:\n",
        "      print('counter', counter)\n",
        "      voronoi_gdf.to_file(output_shapefile_path, driver='ESRI Shapefile')\n",
        "      voronoi_gdf['VB_area_diff'] = abs(voronoi_gdf['Baseline_area'] - voronoi_gdf['Voronoi_area'])\n",
        "\n",
        "    counter += 1\n",
        "    \n",
        "\n",
        "voronoi_gdf['VB_area_diff'] = abs(voronoi_gdf['Baseline_area'] - voronoi_gdf['Voronoi_area'])\n",
        "voronoi_gdf.to_file(output_shapefile_path, driver='ESRI Shapefile')\n"
      ]
    }
  ],
  "metadata": {
    "colab": {
      "provenance": []
    },
    "kernelspec": {
      "display_name": "3.12.9",
      "language": "python",
      "name": "python3"
    },
    "language_info": {
      "codemirror_mode": {
        "name": "ipython",
        "version": 3
      },
      "file_extension": ".py",
      "mimetype": "text/x-python",
      "name": "python",
      "nbconvert_exporter": "python",
      "pygments_lexer": "ipython3",
      "version": "3.12.9"
    }
  },
  "nbformat": 4,
  "nbformat_minor": 0
}
