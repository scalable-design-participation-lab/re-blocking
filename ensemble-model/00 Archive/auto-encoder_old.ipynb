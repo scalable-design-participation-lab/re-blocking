{
 "cells": [
  {
   "cell_type": "code",
   "execution_count": null,
   "metadata": {},
   "outputs": [],
   "source": [
    "#1 pix2pix model input\n",
    "\n",
    "from keras.models import load_model\n",
    "\n",
    "# Assuming you have trained multiple pix2pix models and saved them\n",
    "model1 = load_model('pix2pix_model1.h5')\n",
    "model2 = load_model('pix2pix_model2.h5')\n",
    "model3 = load_model('pix2pix_model3.h5')"
   ]
  },
  {
   "cell_type": "code",
   "execution_count": null,
   "metadata": {},
   "outputs": [],
   "source": [
    "#2: Generate predictions\n",
    "\n",
    "input_image = ...  # Your input image to be transformed\n",
    "\n",
    "output1 = model1.predict(input_image)\n",
    "output2 = model2.predict(input_image)\n",
    "output3 = model3.predict(input_image)"
   ]
  },
  {
   "cell_type": "code",
   "execution_count": null,
   "metadata": {},
   "outputs": [],
   "source": [
    "#3: Train autoencoder\n",
    "\n",
    "from keras.layers import Input, Conv2D, MaxPooling2D, UpSampling2D, concatenate\n",
    "from keras.models import Model\n",
    "\n",
    "input_shape = output1.shape[1:]  # Shape of the output images from pix2pix models\n",
    "\n",
    "## Encoder\n",
    "input_img = Input(shape=input_shape)\n",
    "x = Conv2D(64, (3, 3), activation='relu', padding='same')(input_img)\n",
    "x = MaxPooling2D((2, 2), padding='same')(x)\n",
    "x = Conv2D(32, (3, 3), activation='relu', padding='same')(x)\n",
    "x = MaxPooling2D((2, 2), padding='same')(x)\n",
    "encoded = Conv2D(16, (3, 3), activation='relu', padding='same')(x)\n",
    "\n",
    "encoder = Model(input_img, encoded)\n",
    "\n",
    "# Define the Decoder\n",
    "\n",
    "## Decoder\n",
    "encoded_input = Input(shape=(encoded.shape[1:]))\n",
    "x = Conv2D(32, (3, 3), activation='relu', padding='same')(encoded_input)\n",
    "x = UpSampling2D((2, 2))(x)\n",
    "x = Conv2D(64, (3, 3), activation='relu', padding='same')(x)\n",
    "x = UpSampling2D((2, 2))(x)\n",
    "decoded = Conv2D(input_shape[2], (3, 3), activation='sigmoid', padding='same')(x)\n",
    "\n",
    "decoder = Model(encoded_input, decoded)\n",
    "\n",
    "# Combine Encoder and Decoder into autoencoder\n",
    "\n",
    "autoencoder_input = Input(shape=input_shape)\n",
    "encoded_img = encoder(autoencoder_input)\n",
    "decoded_img = decoder(encoded_img)\n",
    "\n",
    "autoencoder = Model(autoencoder_input, decoded_img)\n",
    "autoencoder.compile(optimizer='adam', loss='binary_crossentropy')"
   ]
  },
  {
   "cell_type": "code",
   "execution_count": null,
   "metadata": {},
   "outputs": [],
   "source": [
    "#4: Train the Autoencoder on Combined Outputs\n",
    "\n",
    "import numpy as np\n",
    "\n",
    "# Stack the outputs of the pix2pix models along a new dimension\n",
    "combined_outputs = np.stack([output1, output2, output3], axis=-1)\n",
    "\n",
    "# Train the autoencoder\n",
    "autoencoder.fit(combined_outputs, combined_outputs, epochs=50, batch_size=16, shuffle=True)"
   ]
  },
  {
   "cell_type": "code",
   "execution_count": null,
   "metadata": {},
   "outputs": [],
   "source": [
    "#5 Predict using the autoencoder\n",
    "synthesized_output = autoencoder.predict(combined_outputs)\n",
    "\n",
    "# `synthesized_output` is the final combined image"
   ]
  }
 ],
 "metadata": {
  "language_info": {
   "name": "python"
  }
 },
 "nbformat": 4,
 "nbformat_minor": 2
}
