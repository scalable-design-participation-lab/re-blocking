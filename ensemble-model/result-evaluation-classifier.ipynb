import numpy as np
import cv2
import torch
import torch.nn as nn
from typing import List, Dict, Optional, Tuple
import logging
from pathlib import Path
import matplotlib.pyplot as plt
import seaborn as sns
from sklearn.metrics import confusion_matrix
import plotly.graph_objects as go
from plotly.subplots import make_subplots
from tqdm.notebook import tqdm
from tqdm.asyncio import tqdm as async_tqdm
import asyncio
import nest_asyncio
from concurrent.futures import ThreadPoolExecutor
from IPython.display import display, HTML

# Enable asyncio in Jupyter
nest_asyncio.apply()

class JupyterImageAnalyzer:
    """Jupyter-friendly analyzer with progress tracking."""
    
    def __init__(self, 
                 model_dir: str,
                 use_clip: bool = True,
                 use_spacenet: bool = True,
                 use_earthnet: bool = True,
                 device: Optional[str] = None,
                 max_workers: int = 3):
        """Initialize with progress display configuration."""
        self.logger = logging.getLogger(__name__)
        self.device = device or ('cuda' if torch.cuda.is_available() else 'cpu')
        self.max_workers = max_workers
        self.models = {}
        
        # Initialize models with progress bar
        with tqdm(total=3, desc="Loading models") as pbar:
            if use_clip:
                self._init_clip()
                pbar.update(1)
            if use_spacenet:
                self._init_spacenet(Path(model_dir) / 'spacenet')
                pbar.update(1)
            if use_earthnet:
                self._init_earthnet(Path(model_dir) / 'earthnet')
                pbar.update(1)

    async def analyze_image_parallel(self, 
                                   image: np.ndarray, 
                                   features_to_check: List[str] = None) -> Dict[str, Dict]:
        """Analyze image with parallel processing and progress tracking."""
        tasks = []
        results = {}
        
        # Create progress bars for each analysis type
        basic_pbar = tqdm(total=1, desc="Basic metrics", leave=True)
        clip_pbar = tqdm(total=1, desc="CLIP analysis", leave=True) if 'clip' in self.models else None
        spacenet_pbar = tqdm(total=1, desc="SpaceNet analysis", leave=True) if 'spacenet' in self.models else None
        earthnet_pbar = tqdm(total=1, desc="BigEarthNet analysis", leave=True) if 'earthnet' in self.models else None

        async def run_with_progress(func, *args, pbar=None):
            """Run function with progress tracking."""
            try:
                result = await asyncio.get_event_loop().run_in_executor(None, func, *args)
                if pbar:
                    pbar.update(1)
                return result
            except Exception as e:
                self.logger.error(f"Error in {func.__name__}: {str(e)}")
                if pbar:
                    pbar.colour = 'red'
                    pbar.update(1)
                return None

        # Run analyses with progress tracking
        results['basic_metrics'] = await run_with_progress(
            self._analyze_basic_metrics, image, pbar=basic_pbar
        )

        if 'clip' in self.models and features_to_check:
            results['clip'] = await run_with_progress(
                self._analyze_with_clip, image, features_to_check, pbar=clip_pbar
            )

        if 'spacenet' in self.models:
            results['spacenet'] = await run_with_progress(
                self._analyze_with_spacenet, image, pbar=spacenet_pbar
            )

        if 'earthnet' in self.models:
            results['earthnet'] = await run_with_progress(
                self._analyze_with_earthnet, image, pbar=earthnet_pbar
            )

        # Close progress bars
        for pbar in [basic_pbar, clip_pbar, spacenet_pbar, earthnet_pbar]:
            if pbar:
                pbar.close()

        return results

    def visualize_results(self, 
                         image: np.ndarray, 
                         results: Dict[str, Dict],
                         save_path: Optional[str] = None) -> None:
        """Generate visualizations with progress tracking."""
        with tqdm(total=4, desc="Generating visualizations") as pbar:
            # Create plotly figure
            fig = make_subplots(
                rows=3, cols=2,
                subplot_titles=(
                    'Original Image', 'Basic Metrics',
                    'Building Detection', 'Road Network',
                    'Land Cover Classification', 'Quality Metrics'
                )
            )
            pbar.update(1)

            # Add original image
            fig.add_trace(go.Image(z=image), row=1, col=1)
            self._add_basic_metrics(fig, results.get('basic_metrics', {}), row=1, col=2)
            pbar.update(1)

            # Add SpaceNet visualizations
            if 'spacenet' in results:
                self._add_spacenet_visualization(fig, results['spacenet'], row=2)
            pbar.update(1)

            # Add BigEarthNet visualizations
            if 'earthnet' in results:
                self._add_earthnet_visualization(fig, results['earthnet'], row=3)
            pbar.update(1)

            # Update layout and display
            fig.update_layout(height=1200, width=1000, title_text="Satellite Image Analysis Results")
            if save_path:
                fig.write_html(save_path)
            else:
                display(HTML(fig.to_html()))

    def analyze_batch(self, 
                     images: List[np.ndarray], 
                     features_to_check: List[str] = None) -> List[Dict[str, Dict]]:
        """Analyze a batch of images with progress tracking."""
        results = []
        with tqdm(total=len(images), desc="Analyzing images") as pbar:
            for image in images:
                result = asyncio.run(self.analyze_image_parallel(image, features_to_check))
                results.append(result)
                pbar.update(1)
        return results

# Example usage in Jupyter notebook
"""
# Initialize analyzer
analyzer = JupyterImageAnalyzer(
    model_dir='path/to/models',
    max_workers=3
)

# Analyze single image
image = cv2.imread('satellite_image.jpg')
image = cv2.cvtColor(image, cv2.COLOR_BGR2RGB)

# Run analysis
results = await analyzer.analyze_image_parallel(
    image=image,
    features_to_check=["buildings", "roads", "vegetation"]
)

# Visualize results
analyzer.visualize_results(
    image=image,
    results=results,
    save_path='analysis_results.html'
)

# Or analyze multiple images
image_list = [image1, image2, image3]
batch_results = analyzer.analyze_batch(
    images=image_list,
    features_to_check=["buildings", "roads", "vegetation"]
)
"""

def create_sample_notebook():
    """Create a sample Jupyter notebook with example code."""
    return {
        "cells": [
            {
                "cell_type": "markdown",
                "source": "# Satellite Image Analysis Example"
            },
            {
                "cell_type": "code",
                "source": """
import cv2
import numpy as np
from jupyter_analyzer import JupyterImageAnalyzer

# Initialize analyzer
analyzer = JupyterImageAnalyzer(
    model_dir='path/to/models',
    use_clip=True,
    use_spacenet=True,
    use_earthnet=True
)
"""
            },
            {
                "cell_type": "code",
                "source": """
# Load and prepare image
image = cv2.imread('satellite_image.jpg')
image = cv2.cvtColor(image, cv2.COLOR_BGR2RGB)

# Features to check
features = ["buildings", "roads", "vegetation", "water bodies"]
"""
            },
            {
                "cell_type": "code",
                "source": """
# Run analysis
results = await analyzer.analyze_image_parallel(
    image=image,
    features_to_check=features
)
"""
            },
            {
                "cell_type": "code",
                "source": """
# Visualize results
analyzer.visualize_results(
    image=image,
    results=results
)
"""
            }
        ],
        "metadata": {
            "kernelspec": {
                "display_name": "Python 3",
                "language": "python",
                "name": "python3"
            }
        },
        "nbformat": 4,
        "nbformat_minor": 4
    }