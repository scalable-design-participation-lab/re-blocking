{
 "cells": [
  {
   "cell_type": "code",
   "execution_count": 38,
   "metadata": {},
   "outputs": [],
   "source": [
    "# import libraries\n",
    "import matplotlib.pyplot as plt\n",
    "import cartopy.crs as ccrs\n",
    "from cartopy.io.img_tiles import MapboxTiles\n",
    "from cartopy.io.img_tiles import GoogleWTS\n",
    "from owslib.wmts import WebMapTileService\n",
    "from owslib.wms import WebMapService\n",
    "from urllib.request import urlopen\n",
    "from PIL import Image\n",
    "import geopandas as gpd\n",
    "import os\n",
    "import io\n",
    "from dotenv import load_dotenv\n",
    "load_dotenv() # loads .env file from main folder for Mapbox API key and local project path\n",
    "import random\n",
    "import numpy as np"
   ]
  },
  {
   "cell_type": "code",
   "execution_count": 4,
   "metadata": {},
   "outputs": [],
   "source": [
    "# load parcel and building data\n",
    "df_parcels = gpd.read_file(os.environ.get('LOCAL_PATH')+\"Spatial Data/ny-manhattan-parcels/NYC_2021_Tax_Parcels_SHP_2203/NewYork_2021_Tax_Parcels_SHP_2203.shp\")\n",
    "df_buildings = gpd.read_file(os.environ.get('LOCAL_PATH')+\"Spatial Data/ny-manhattan-buildings/geo_export_a80ea1a2-e8e0-4ffd-862c-1199433ac303.shp\")"
   ]
  },
  {
   "cell_type": "code",
   "execution_count": 5,
   "metadata": {},
   "outputs": [],
   "source": [
    "# set random RGB color for the parcels\n",
    "def random_hex_color(seed=False):\n",
    "  if seed:\n",
    "    random.seed(seed)\n",
    "    r = random.randint(0, 255)\n",
    "    random.seed(seed+1000)\n",
    "    g = random.randint(0, 255)\n",
    "    random.seed(seed+2000)\n",
    "    b = random.randint(0, 255)\n",
    "  else:\n",
    "    r = random.randint(0, 255)\n",
    "    g = random.randint(0, 255)\n",
    "    b = random.randint(0, 255)\n",
    "  return \"#{:02x}{:02x}{:02x}\".format(r, g, b)\n",
    "random_hex_color()\n",
    "df_parcels['color'] = [ random_hex_color() for i in range(len(df_parcels)) ]"
   ]
  },
  {
   "cell_type": "code",
   "execution_count": 6,
   "metadata": {},
   "outputs": [],
   "source": [
    "# join data frames function\n",
    "def join_parcels_buildings(parcels, buildings):\n",
    "    \"\"\"Join parcels and buildings dataframes.\"\"\"\n",
    "    parcels_buildings = buildings.sjoin(parcels, how=\"inner\")\n",
    "    return parcels_buildings"
   ]
  },
  {
   "cell_type": "code",
   "execution_count": 7,
   "metadata": {},
   "outputs": [],
   "source": [
    "# set CRS to web mercator\n",
    "df_parcels = df_parcels.to_crs(epsg=3857)\n",
    "df_buildings = df_buildings.to_crs(epsg=3857)"
   ]
  },
  {
   "cell_type": "code",
   "execution_count": 8,
   "metadata": {},
   "outputs": [],
   "source": [
    "# perform join\n",
    "df_parcels_buildings = join_parcels_buildings(df_parcels, df_buildings)"
   ]
  },
  {
   "cell_type": "code",
   "execution_count": 9,
   "metadata": {},
   "outputs": [
    {
     "name": "stdout",
     "output_type": "stream",
     "text": [
      "42297\n",
      "1084092\n",
      "94448\n"
     ]
    }
   ],
   "source": [
    "# show df length\n",
    "print(df_parcels.shape[0])\n",
    "print(df_buildings.shape[0])\n",
    "print(df_parcels_buildings.shape[0])"
   ]
  },
  {
   "cell_type": "code",
   "execution_count": 10,
   "metadata": {},
   "outputs": [],
   "source": [
    "# loop through the parcels and add them to the map\n",
    "def add_geometries(ax, df_parcels, crs_epsg, random_color = False):\n",
    "    for row in df_parcels.itertuples():\n",
    "        geometry = row.geometry\n",
    "        if random_color == True: color = random_hex_color(int(row.bin))\n",
    "        else: color = row.color\n",
    "        ax.add_geometries(geometry, crs = crs_epsg, facecolor=color) # for Lat/Lon data."
   ]
  },
  {
   "cell_type": "code",
   "execution_count": 59,
   "metadata": {},
   "outputs": [],
   "source": [
    "# Option 1: Mapbox satellite imagery\n",
    "\n",
    "# load the background map and plot the geometries\n",
    "# def map_maker(df_parcels, df_buildings, scale=10):\n",
    "def map_maker(df_parcels, df_buildings, bounds, index, scale=10, feature_type='both', random_color=False):\n",
    "    access_token = os.environ.get('MAPBOX_ACCESS_TOKEN')\n",
    "    tiler = MapboxTiles(access_token, 'satellite-v9')\n",
    "    crs_epsg = ccrs.epsg('3857')\n",
    "\n",
    "    mercator = tiler.crs\n",
    "\n",
    "    fig = plt.figure()\n",
    "    ax = fig.add_subplot(1, 1, 1, projection=mercator)\n",
    "\n",
    "    # change figure size of the subplot\n",
    "    my_dpi=96\n",
    "    fig.set_size_inches(7, 7)\n",
    "    # fig.figsize = (512/my_dpi, 512/my_dpi), dpi=my_dpi\n",
    "\n",
    "    # calculate the centroid and max distance of the bounds\n",
    "    dist1 = bounds[2]-bounds[0]\n",
    "    dist2 = bounds[3]-bounds[1]\n",
    "    max_dist = max(dist1, dist2)/2\n",
    "\n",
    "    # calculate the centroid of the bounds\n",
    "    centroid_x = (bounds[2]+bounds[0])/2\n",
    "    centroid_y = (bounds[3]+bounds[1])/2\n",
    "\n",
    "    # bounds = df_parcels.total_bounds with offset to create same aspect ratio\n",
    "    ax.set_extent([centroid_x-max_dist, centroid_x+max_dist, centroid_y-max_dist, centroid_y+max_dist], crs=ccrs.epsg('3857'))\n",
    "\n",
    "    # if feature_type == 'parcels': add_parcels(ax, df_parcels, crs_epsg)\n",
    "    if feature_type == 'parcels': \n",
    "        add_geometries(ax, df_parcels, crs_epsg)\n",
    "        # ax.add_geometries(df_buildings.geometry, crs = crs_epsg, facecolor='white', edgecolor='black', linewidth=2.5, alpha=1)\n",
    "    if feature_type == 'parcels' and random_color == True:\n",
    "        add_geometries(ax, df_parcels, crs_epsg, random_color=True)\n",
    "    if feature_type == 'buildings': \n",
    "        add_geometries(ax, df_buildings, crs_epsg)\n",
    "    if feature_type == 'buildings' and random_color == True:\n",
    "        add_geometries(ax, df_buildings, crs_epsg, random_color=True)\n",
    "    if feature_type == 'both' and random_color == True: \n",
    "        add_geometries(ax, df_buildings, crs_epsg, random_color=True)\n",
    "        add_geometries(ax, df_parcels, crs_epsg, random_color=True)\n",
    "    if  feature_type == 'both': \n",
    "        # ax.add_geometries(df_buildings.geometry, crs = crs_epsg, facecolor='black', edgecolor='white', linewidth=1.5, alpha=1)\n",
    "        add_geometries(ax, df_buildings, crs_epsg, random_color=True)\n",
    "        add_geometries(ax, df_parcels, crs_epsg)\n",
    "\n",
    "    # add the Mapbox tiles to the axis at zoom level 10 (Mapbox has 23 zoom levels)\n",
    "    ax.add_image(tiler, scale)\n",
    "\n",
    "    # set the path to the folder where the images will be saved\n",
    "    output_folder = 'img-mapbox/'\n",
    "    if not os.path.exists(output_folder):\n",
    "        os.makedirs(output_folder)\n",
    "\n",
    "    # save the figure\n",
    "    plt.savefig(output_folder + f'{feature_type}_{index}.jpg', bbox_inches='tight', pad_inches = 0, dpi = my_dpi)\n",
    "    # plt.savefig(output_folder + f'building_{index}.jpg', bbox_inches='tight', pad_inches = 0, dpi = my_dpi)\n",
    "\n",
    "    # close the figure\n",
    "    plt.close(fig)\n",
    "\n",
    "    # ax.coastlines('10m')\n",
    "    plt.show()"
   ]
  },
  {
   "cell_type": "code",
   "execution_count": 57,
   "metadata": {},
   "outputs": [],
   "source": [
    "# Option 2: NASA GIBS (REST) API\n",
    "\n",
    "def map_maker(df_parcels, df_buildings, bounds, index, scale=10, feature_type='both', random_color=False):\n",
    "    # Coordinate Reference System for the map\n",
    "    crs_epsg = ccrs.epsg('3857')\n",
    "    \n",
    "    # Construct the tile URL using GIBS API for a single tile as an example\n",
    "    layer = \"MODIS_Terra_CorrectedReflectance_TrueColor\"\n",
    "    date = \"2020-03-01\"  # Example date, adjust as necessary\n",
    "    zoom_level = 6  # Zoom level\n",
    "    tile_row = 10  # Tile row\n",
    "    tile_col = 21  # Tile column\n",
    "    tile_url = f\"https://gibs.earthdata.nasa.gov/wmts/epsg3857/best/{layer}/default/{date}/GoogleMapsCompatible_Level9/{zoom_level}/{tile_row}/{tile_col}.jpg\"\n",
    "    \n",
    "    # Setup CartoPy with Mercator projection\n",
    "    fig = plt.figure(figsize=(8, 8))\n",
    "    ax = fig.add_subplot(1, 1, 1, projection=ccrs.Mercator())\n",
    "    ax.set_extent([-130, -100, 20, 50], crs=ccrs.PlateCarree())  # Adjust these bounds\n",
    "\n",
    "    # calculate the centroid and max distance of the bounds\n",
    "    dist1 = bounds[2]-bounds[0]\n",
    "    dist2 = bounds[3]-bounds[1]\n",
    "    max_dist = max(dist1, dist2)/2\n",
    "\n",
    "    # calculate the centroid of the bounds\n",
    "    centroid_x = (bounds[2]+bounds[0])/2\n",
    "    centroid_y = (bounds[3]+bounds[1])/2\n",
    "\n",
    "    # bounds = df_parcels.total_bounds with offset to create same aspect ratio\n",
    "    ax.set_extent([centroid_x-max_dist, centroid_x+max_dist, centroid_y-max_dist, centroid_y+max_dist], crs=ccrs.epsg('3857'))\n",
    "\n",
    "    # Fetch and display the tile\n",
    "    with urlopen(tile_url) as url:\n",
    "        img = Image.open(url)\n",
    "        img_array = np.array(img)\n",
    "    img_extent = [-130, -100, 20, 50]  # Adjust this extent to match the tile's coverage\n",
    "    ax.imshow(img_array, origin='upper', extent=img_extent, transform=ccrs.PlateCarree())\n",
    "    \n",
    "    # add geometries\n",
    "    if feature_type == 'parcels': \n",
    "        add_geometries(ax, df_parcels, crs_epsg)\n",
    "    if feature_type == 'parcels' and random_color == True:\n",
    "        add_geometries(ax, df_parcels, crs_epsg, random_color=True)\n",
    "    if feature_type == 'buildings': \n",
    "        add_geometries(ax, df_buildings, crs_epsg)\n",
    "    if feature_type == 'buildings' and random_color == True:\n",
    "        add_geometries(ax, df_buildings, crs_epsg, random_color=True)\n",
    "    if feature_type == 'both' and random_color == True: \n",
    "        add_geometries(ax, df_buildings, crs_epsg, random_color=True)\n",
    "        add_geometries(ax, df_parcels, crs_epsg, random_color=True)\n",
    "    if  feature_type == 'both': \n",
    "        add_geometries(ax, df_buildings, crs_epsg, random_color=True)\n",
    "        add_geometries(ax, df_parcels, crs_epsg)\n",
    "    \n",
    "    # Output settings\n",
    "    output_folder = 'img-gibs/'\n",
    "    if not os.path.exists(output_folder):\n",
    "        os.makedirs(output_folder)\n",
    "    plt.savefig(output_folder + f'{feature_type}_{index}.jpg', bbox_inches='tight', pad_inches=0)\n",
    "    plt.close(fig)"
   ]
  },
  {
   "cell_type": "code",
   "execution_count": 63,
   "metadata": {},
   "outputs": [],
   "source": [
    "def map_maker(df_parcels, df_buildings, bounds, index, scale=10, feature_type='both', random_color=False):\n",
    "        \n",
    "    # Connect to GIBS WMS Service\n",
    "    wms = WebMapService('https://gibs.earthdata.nasa.gov/wms/epsg4326/best/wms.cgi?', version='1.1.1')\n",
    "\n",
    "    # Configure request for MODIS_Terra_CorrectedReflectance_TrueColor\n",
    "    img = wms.getmap(layers=['MODIS_Terra_CorrectedReflectance_TrueColor'],  # Layers\n",
    "                    srs='epsg:4326',  # Map projection\n",
    "                    bbox=(-180,-90,180,90),  # Bounds\n",
    "                    size=(1200, 600),  # Image size\n",
    "                    time='2024-01-01',  # Time of data\n",
    "                    format='image/jpeg',  # Image format\n",
    "                    transparent=False)  # Nodata transparency\n",
    "\n",
    "    # Save output PNG to a file\n",
    "    output_folder = 'img-gibs/'\n",
    "    if not os.path.exists(output_folder):\n",
    "        os.makedirs(output_folder)\n",
    "    out = open(output_folder + f'{feature_type}_{index}.jpg', 'wb')\n",
    "    out.write(img.read())\n",
    "    out.close()"
   ]
  },
  {
   "cell_type": "code",
   "execution_count": 45,
   "metadata": {},
   "outputs": [],
   "source": [
    "# subset the data frames based on a buffer\n",
    "def subset(df, df_buildings, index, distance = 75):\n",
    "    selected_feature = df.loc[index]\n",
    "    geometry_buffer = selected_feature.geometry.buffer(distance)\n",
    "    geometry_bounds = selected_feature.geometry.buffer(distance-70)\n",
    "\n",
    "    return df[df.within(geometry_buffer)], df_buildings[df_buildings.within(geometry_buffer)], geometry_bounds.bounds"
   ]
  },
  {
   "cell_type": "code",
   "execution_count": 64,
   "metadata": {},
   "outputs": [],
   "source": [
    "# generate the image for \"parcels\" and \"buildings\" (or \"both\")\n",
    "# index will correspond to each of the parcel indices in the data frame\n",
    "for i in range (0, 10):\n",
    "    subset_features = subset(df_parcels, df_parcels_buildings, i, 200)\n",
    "    map_maker(subset_features[0], subset_features[1], subset_features[2], i, 18,'parcels')\n",
    "    # map_maker(subset_features[0], subset_features[1], subset_features[2], i, 18,'buildings')"
   ]
  }
 ],
 "metadata": {
  "kernelspec": {
   "display_name": "Python 3",
   "language": "python",
   "name": "python3"
  },
  "language_info": {
   "codemirror_mode": {
    "name": "ipython",
    "version": 3
   },
   "file_extension": ".py",
   "mimetype": "text/x-python",
   "name": "python",
   "nbconvert_exporter": "python",
   "pygments_lexer": "ipython3",
   "version": "3.11.9"
  },
  "orig_nbformat": 4
 },
 "nbformat": 4,
 "nbformat_minor": 2
}
